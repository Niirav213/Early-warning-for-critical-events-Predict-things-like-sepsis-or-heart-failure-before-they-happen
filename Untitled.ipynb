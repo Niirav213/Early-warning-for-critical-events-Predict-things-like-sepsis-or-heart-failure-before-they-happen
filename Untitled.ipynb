{
 "cells": [
  {
   "cell_type": "code",
   "execution_count": 1,
   "id": "f372471b-06f6-452e-ae32-78071abc1031",
   "metadata": {},
   "outputs": [],
   "source": [
    "import numpy as np\n",
    "import pandas as pd\n",
    "import glob\n",
    "import os\n",
    "import torch\n",
    "from torch.utils.data import Dataset, DataLoader"
   ]
  },
  {
   "cell_type": "raw",
   "id": "b090cfe7-e0ce-463d-a74f-cd587cd75628",
   "metadata": {},
   "source": [
    "Making a Class to read psv files"
   ]
  },
  {
   "cell_type": "code",
   "execution_count": 2,
   "id": "03a1dd79-6ca0-4390-8d46-5c2f6f4497ef",
   "metadata": {},
   "outputs": [],
   "source": [
    "class ReadData(Dataset):\n",
    "    def __init__(self, root_dir):\n",
    "        self.files = [os.path.join(root_dir, f) for f in os.listdir(root_dir) if f.endswith('.psv')]\n",
    "\n",
    "    def __len__(self):\n",
    "        return len(self.files)\n",
    "        \n",
    "    def getItem(self, Idx):\n",
    "        file_path = self.files[Idx]\n",
    "        df = pd.read_csv(file_path, sep='|')\n",
    "        data= torch.tensor(df.values, dtype = torch.float)\n",
    "        return data\n"
   ]
  },
  {
   "cell_type": "code",
   "execution_count": 3,
   "id": "9cafb5fe-ce7e-4c48-894e-24b1d1639763",
   "metadata": {},
   "outputs": [],
   "source": [
    "dataset = ReadData(r'D:\\CPI PROJECT\\Early-warning-for-critical-events-Predict-things-like-sepsis-or-heart-failure-before-they-happen\\training')"
   ]
  },
  {
   "cell_type": "code",
   "execution_count": 4,
   "id": "7fa63c12-eab0-41d9-806d-1a6a91b5ed55",
   "metadata": {},
   "outputs": [],
   "source": [
    "loader = DataLoader(dataset, batch_size=8,shuffle = True, num_workers = 4)"
   ]
  },
  {
   "cell_type": "code",
   "execution_count": 7,
   "id": "eee6b5f6-e534-4334-ac4b-4cf096d9af95",
   "metadata": {
    "scrolled": true
   },
   "outputs": [],
   "source": [
    "data = dataset.getItem(5)"
   ]
  },
  {
   "cell_type": "code",
   "execution_count": 6,
   "id": "536fde8f-4d45-428b-b450-4bd28ed356b8",
   "metadata": {},
   "outputs": [],
   "source": [
    "column_names = data[0].tolist()\n",
    "data1 = data[1:].numpy()\n",
    "\n",
    "df = pd.DataFrame(data1, columns = column_names)"
   ]
  },
  {
   "cell_type": "code",
   "execution_count": 8,
   "id": "f7c577dc-ec8a-46ca-b429-8c47b694b262",
   "metadata": {
    "scrolled": true
   },
   "outputs": [
    {
     "name": "stdout",
     "output_type": "stream",
     "text": [
      "     109.000000   100.000000   36.560001    118.000000   86.000000   \\\n",
      "0         111.0        100.0    36.720001        127.0    90.330002   \n",
      "1         107.0         99.0          NaN        122.0    78.000000   \n",
      "2         106.0         99.0          NaN        101.0    73.000000   \n",
      "3         103.0         97.0          NaN        112.0    78.000000   \n",
      "4         100.0         99.0    36.669998        122.0    85.330002   \n",
      "5          96.0         98.0          NaN        111.0    75.669998   \n",
      "6          95.0         98.0          NaN        129.0    95.000000   \n",
      "7          94.0         99.0          NaN        144.0   100.000000   \n",
      "8          95.0         98.0    36.720001        115.0    89.000000   \n",
      "9          92.0        100.0          NaN          NaN          NaN   \n",
      "10         87.0         99.0          NaN        122.0    80.000000   \n",
      "11          NaN          NaN          NaN          NaN          NaN   \n",
      "12         91.0         95.0    36.330002        132.0    97.330002   \n",
      "13        103.0         98.0          NaN        142.0   100.000000   \n",
      "14        101.0         98.0          NaN        142.0    94.669998   \n",
      "15        110.0         98.0          NaN        150.0    99.330002   \n",
      "\n",
      "     NaN          18.500000    NaN          NaN          NaN         ...  \\\n",
      "0           NaN         43.0          NaN          0.0          NaN  ...   \n",
      "1           NaN          NaN          NaN          NaN          NaN  ...   \n",
      "2           NaN          NaN          NaN          NaN          NaN  ...   \n",
      "3           NaN          NaN          NaN          NaN          NaN  ...   \n",
      "4           NaN          NaN          NaN          NaN          NaN  ...   \n",
      "5           NaN          NaN          NaN          NaN          NaN  ...   \n",
      "6           NaN          NaN          NaN          NaN          NaN  ...   \n",
      "7           NaN          NaN          NaN          NaN          NaN  ...   \n",
      "8           NaN          NaN          NaN          NaN          NaN  ...   \n",
      "9           NaN          NaN          NaN          NaN         29.0  ...   \n",
      "10          NaN          NaN          NaN          NaN          NaN  ...   \n",
      "11          NaN          NaN          NaN          NaN          NaN  ...   \n",
      "12          NaN         26.0          NaN          NaN          NaN  ...   \n",
      "13          NaN         24.0          NaN          NaN          NaN  ...   \n",
      "14          NaN         24.0          NaN          NaN          NaN  ...   \n",
      "15          NaN         24.0          NaN          NaN          NaN  ...   \n",
      "\n",
      "     NaN          NaN          NaN          52.009998    1.000000    \\\n",
      "0           NaN          NaN          NaN    52.009998          1.0   \n",
      "1           NaN          NaN          NaN    52.009998          1.0   \n",
      "2           NaN          NaN          NaN    52.009998          1.0   \n",
      "3           NaN          NaN          NaN    52.009998          1.0   \n",
      "4           NaN          NaN          NaN    52.009998          1.0   \n",
      "5           NaN          NaN          NaN    52.009998          1.0   \n",
      "6           NaN          NaN          NaN    52.009998          1.0   \n",
      "7           NaN          NaN          NaN    52.009998          1.0   \n",
      "8           NaN          NaN          NaN    52.009998          1.0   \n",
      "9          12.0          NaN        298.0    52.009998          1.0   \n",
      "10          NaN          NaN          NaN    52.009998          1.0   \n",
      "11          NaN          NaN          NaN    52.009998          1.0   \n",
      "12          NaN          NaN          NaN    52.009998          1.0   \n",
      "13          NaN          NaN          NaN    52.009998          1.0   \n",
      "14          NaN          NaN          NaN    52.009998          1.0   \n",
      "15          NaN          NaN          NaN    52.009998          1.0   \n",
      "\n",
      "     1.000000     0.000000    -0.030000     3.000000     0.000000    \n",
      "0           1.0          0.0        -0.03          4.0          0.0  \n",
      "1           1.0          0.0        -0.03          5.0          0.0  \n",
      "2           1.0          0.0        -0.03          6.0          0.0  \n",
      "3           1.0          0.0        -0.03          7.0          0.0  \n",
      "4           1.0          0.0        -0.03          8.0          0.0  \n",
      "5           1.0          0.0        -0.03          9.0          0.0  \n",
      "6           1.0          0.0        -0.03         10.0          0.0  \n",
      "7           1.0          0.0        -0.03         11.0          0.0  \n",
      "8           1.0          0.0        -0.03         12.0          0.0  \n",
      "9           1.0          0.0        -0.03         13.0          0.0  \n",
      "10          1.0          0.0        -0.03         14.0          0.0  \n",
      "11          1.0          0.0        -0.03         15.0          0.0  \n",
      "12          1.0          0.0        -0.03         16.0          0.0  \n",
      "13          1.0          0.0        -0.03         17.0          0.0  \n",
      "14          1.0          0.0        -0.03         18.0          0.0  \n",
      "15          1.0          0.0        -0.03         19.0          0.0  \n",
      "\n",
      "[16 rows x 41 columns]\n"
     ]
    }
   ],
   "source": [
    "print(df)"
   ]
  },
  {
   "cell_type": "code",
   "execution_count": null,
   "id": "6e2a60ca-5ba6-462f-849c-ee5bb30e5620",
   "metadata": {},
   "outputs": [],
   "source": []
  }
 ],
 "metadata": {
  "kernelspec": {
   "display_name": "Python 3 (ipykernel)",
   "language": "python",
   "name": "python3"
  },
  "language_info": {
   "codemirror_mode": {
    "name": "ipython",
    "version": 3
   },
   "file_extension": ".py",
   "mimetype": "text/x-python",
   "name": "python",
   "nbconvert_exporter": "python",
   "pygments_lexer": "ipython3",
   "version": "3.13.7"
  }
 },
 "nbformat": 4,
 "nbformat_minor": 5
}
