{
 "cells": [
  {
   "cell_type": "code",
   "execution_count": 1,
   "id": "f372471b-06f6-452e-ae32-78071abc1031",
   "metadata": {},
   "outputs": [],
   "source": [
    "import numpy as np\n",
    "import pandas as pd\n",
    "import glob\n",
    "import os"
   ]
  },
  {
   "cell_type": "code",
   "execution_count": 2,
   "id": "1c6ebd1f-6fca-4c31-83fc-8f1d91855b99",
   "metadata": {},
   "outputs": [
    {
     "name": "stdout",
     "output_type": "stream",
     "text": [
      "      HR  O2Sat  Temp    SBP    MAP  DBP  Resp  EtCO2  BaseExcess  HCO3  ...  \\\n",
      "0    NaN    NaN   NaN    NaN    NaN  NaN   NaN    NaN         NaN   NaN  ...   \n",
      "1   97.0   95.0   NaN   98.0  75.33  NaN  19.0    NaN         NaN   NaN  ...   \n",
      "2   89.0   99.0   NaN  122.0  86.00  NaN  22.0    NaN         NaN   NaN  ...   \n",
      "3   90.0   95.0   NaN    NaN    NaN  NaN  30.0    NaN        24.0   NaN  ...   \n",
      "4  103.0   88.5   NaN  122.0  91.33  NaN  24.5    NaN         NaN   NaN  ...   \n",
      "\n",
      "   WBC  Fibrinogen  Platelets    Age  Gender  Unit1  Unit2  HospAdmTime  \\\n",
      "0  NaN         NaN        NaN  83.14       0    NaN    NaN        -0.03   \n",
      "1  NaN         NaN        NaN  83.14       0    NaN    NaN        -0.03   \n",
      "2  NaN         NaN        NaN  83.14       0    NaN    NaN        -0.03   \n",
      "3  NaN         NaN        NaN  83.14       0    NaN    NaN        -0.03   \n",
      "4  NaN         NaN        NaN  83.14       0    NaN    NaN        -0.03   \n",
      "\n",
      "   ICULOS  SepsisLabel  \n",
      "0       1            0  \n",
      "1       2            0  \n",
      "2       3            0  \n",
      "3       4            0  \n",
      "4       5            0  \n",
      "\n",
      "[5 rows x 41 columns]\n"
     ]
    }
   ],
   "source": [
    "path = r'D:\\CPI PROJECT\\Early-warning-for-critical-events-Predict-things-like-sepsis-or-heart-failure-before-they-happen\\training'\n",
    "all_files = glob.glob(os.path.join(path, '*psv'))\n",
    "\n",
    "list = []\n",
    "#Loop to read whole folder\n",
    "for f in all_files:\n",
    "    df = pd.read_csv(f, sep = '|')\n",
    "\n",
    "    #append the DATAframe to our list\n",
    "    list.append(df)\n",
    "\n",
    "#concatinate all the dataframes in the list into one dataframe\n",
    "wholeData = pd.concat(list, ignore_index = True)\n",
    "print(wholeData.head())"
   ]
  },
  {
   "cell_type": "code",
   "execution_count": null,
   "id": "79b07402-fe76-46fd-b2f1-97964c14dddf",
   "metadata": {},
   "outputs": [],
   "source": []
  }
 ],
 "metadata": {
  "kernelspec": {
   "display_name": "Python 3 (ipykernel)",
   "language": "python",
   "name": "python3"
  },
  "language_info": {
   "codemirror_mode": {
    "name": "ipython",
    "version": 3
   },
   "file_extension": ".py",
   "mimetype": "text/x-python",
   "name": "python",
   "nbconvert_exporter": "python",
   "pygments_lexer": "ipython3",
   "version": "3.13.7"
  }
 },
 "nbformat": 4,
 "nbformat_minor": 5
}
